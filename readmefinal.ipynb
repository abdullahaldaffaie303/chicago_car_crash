{
 "cells": [
  {
   "cell_type": "markdown",
   "metadata": {},
   "source": [
    "##### Phase 3 Project #####\n",
    "\n",
    "# Chicago Car Crashes\n",
    "\n",
    "## Traffic Crashes - Crashes Data \n",
    "Dataset&Columns Description can be found here \n",
    "[https://data.cityofchicago.org/Transportation/Traffic-Crashes-Crashes/85ca-t3if]"
   ]
  },
  {
   "cell_type": "markdown",
   "metadata": {},
   "source": [
    "## -Columns in Traffic Crashes - Crashes Data\n",
    "\n",
    "Column Name&Description\t\n",
    "\n",
    "- CRASH_RECORD_ID\t\n",
    "This number can be used to link to the same crash in the Vehicles and People datasets. This number also serves as a unique ID in this dataset.\n",
    "\n",
    "- RD_NO\t\n",
    "Chicago Police Department report number. For privacy reasons, this column is blank for recent crashes.\n",
    "\n",
    "- CRASH_DATE_EST_I\t\n",
    "Crash date estimated by desk officer or reporting party (only used in cases where crash is reported at police station days after the crash)\n",
    "\n",
    "- CRASH_DATE\t\n",
    "Date and time of crash as entered by the reporting officer\n",
    "\n",
    "- POSTED_SPEED_LIMIT\t\n",
    "Posted speed limit, as determined by reporting officer\n",
    "\n",
    "- TRAFFIC_CONTROL_DEVICE\t\n",
    "Traffic control device present at crash location, as determined by reporting officer\n",
    "\n",
    "- DEVICE_CONDITION\t\n",
    "Condition of traffic control device, as determined by reporting officer\n",
    "\n",
    "- WEATHER_CONDITION\t\n",
    "Weather condition at time of crash, as determined by reporting officer\n",
    "\n",
    "- LIGHTING_CONDITION\t\n",
    "Light condition at time of crash, as determined by reporting officer\n",
    "\n",
    "- FIRST_CRASH_TYPE\t\n",
    "Type of first collision in crash\n",
    "\n",
    "- TRAFFICWAY_TYPE\t\n",
    "Trafficway type, as determined by reporting officer\n",
    "\n",
    "- LANE_CNT\t\n",
    "Total number of through lanes in either direction, excluding turn lanes, as determined by reporting officer (0 = intersection)\n",
    "\n",
    "- ALIGNMENT\t\n",
    "Street alignment at crash location, as determined by reporting officer\n",
    "\n",
    "- ROADWAY_SURFACE_COND\t\n",
    "Road surface condition, as determined by reporting officer\n",
    "\n",
    "- ROAD_DEFECT\t\n",
    "Road defects, as determined by reporting officer\n",
    "\n",
    "- REPORT_TYPE\t\n",
    "Administrative report type (at scene, at desk, amended)\n",
    "\n",
    "- CRASH_TYPE\t\n",
    "A general severity classification for the crash. Can be either Injury and/or Tow Due to Crash or No Injury / Drive Away\n",
    "\n",
    "- INTERSECTION_RELATED_I\t\n",
    "A field observation by the police officer whether an intersection played a role in the crash. Does not represent whether or not the crash occurred within the intersection.\n",
    "\n",
    "- NOT_RIGHT_OF_WAY_I\t\n",
    "Whether the crash begun or first contact was made outside of the public right-of-way.\n",
    "\n",
    "- HIT_AND_RUN_I\t\n",
    "Crash did/did not involve a driver who caused the crash and fled the scene without exchanging information and/or rendering aid\n",
    "\n",
    "- DAMAGE\t\n",
    "A field observation of estimated damage.\n",
    "\n",
    "- DATE_POLICE_NOTIFIED\t\n",
    "Calendar date on which police were notified of the crash\n",
    "\n",
    "- PRIM_CONTRIBUTORY_CAUSE\t\n",
    "The factor which was most significant in causing the crash, as determined by officer judgment\n",
    "\n",
    "- SEC_CONTRIBUTORY_CAUSE\t\n",
    "The factor which was second most significant in causing the crash, as determined by officer judgment\n",
    "\n",
    "- STREET_NO\t\n",
    "Street address number of crash location, as determined by reporting officer\n",
    "\n",
    "- STREET_DIRECTION\t\n",
    "Street address direction (N,E,S,W) of crash location, as determined by reporting officer\n",
    "\n",
    "- STREET_NAME\t\n",
    "Street address name of crash location, as determined by reporting officer\n",
    "\n",
    "- BEAT_OF_OCCURRENCE\t\n",
    "Chicago Police Department Beat ID. Boundaries available at https://data.cityofchicago.org/d/aerh-rz74\n",
    "\n",
    "- PHOTOS_TAKEN_I\t\n",
    "Whether the Chicago Police Department took photos at the location of the crash\n",
    "\n",
    "- STATEMENTS_TAKEN_I\t\n",
    "Whether statements were taken from unit(s) involved in crash\n",
    "\n",
    "- DOORING_I\t\n",
    "Whether crash involved a motor vehicle occupant opening a door into the travel path of a bicyclist, causing a crash\n",
    "\n",
    "- WORK_ZONE_I\t\n",
    "Whether the crash occurred in an active work zone\n",
    "\n",
    "- WORK_ZONE_TYPE\t\n",
    "The type of work zone, if any\n",
    "\n",
    "- WORKERS_PRESENT_I\t\n",
    "Whether construction workers were present in an active work zone at crash location\n",
    "\n",
    "- NUM_UNITS\t\n",
    "Number of units involved in the crash. A unit can be a motor vehicle, a pedestrian, a bicyclist, or another non-passenger roadway user. Each unit represents a mode of traffic with an independent trajectory.\n",
    "\n",
    "- MOST_SEVERE_INJURY\t\n",
    "Most severe injury sustained by any person involved in the crash\n",
    "\n",
    "- INJURIES_TOTAL\t\n",
    "Total persons sustaining fatal, incapacitating, non-incapacitating, and possible injuries as determined by the reporting officer\n",
    "\n",
    "- INJURIES_FATAL\t\n",
    "Total persons sustaining fatal injuries in the crash\n",
    "\n",
    "- INJURIES_INCAPACITATING\t\n",
    "Total persons sustaining incapacitating/serious injuries in the crash as determined by the reporting officer. Any injury other than fatal injury, which prevents the injured person from walking, driving, or normally continuing the activities they were capable of performing before the injury occurred. Includes severe lacerations, broken limbs, skull or chest injuries, and abdominal injuries.\n",
    "\n",
    "- INJURIES_NON_INCAPACITATING\t\n",
    "Total persons sustaining non-incapacitating injuries in the crash as determined by the reporting officer. Any injury, other than fatal or incapacitating injury, which is evident to observers at the scene of the crash. Includes lump on head, abrasions, bruises, and minor lacerations.\n",
    "\n",
    "- INJURIES_REPORTED_NOT_EVIDENT\t\n",
    "Total persons sustaining possible injuries in the crash as determined by the reporting officer. Includes momentary unconsciousness, claims of injuries not evident, limping, complaint of pain, nausea, and hysteria.\n",
    "\n",
    "- INJURIES_NO_INDICATION\t\n",
    "Total persons sustaining no injuries in the crash as determined by the reporting officer\n",
    "\n",
    "- INJURIES_UNKNOWN\t\n",
    "Total persons for whom injuries sustained, if any, are unknown\n",
    "\n",
    "- CRASH_HOUR\t\n",
    "The hour of the day component of CRASH_DATE.\n",
    "\n",
    "- CRASH_DAY_OF_WEEK\t\n",
    "The day of the week component of CRASH_DATE. Sunday=1\n",
    "\n",
    "- CRASH_MONTH\t\n",
    "The month component of CRASH_DATE.\n",
    "\n",
    "- LATITUDE\t\n",
    "The latitude of the crash location, as determined by reporting officer, as derived from the reported address of crash\n",
    "\n",
    "- LONGITUDE\t\n",
    "The longitude of the crash location, as determined by reporting officer, as derived from the reported address of crash\n",
    "\n",
    "- LOCATION\t\n",
    "The crash location, as determined by reporting officer, as derived from the reported address of crash, in a column type that allows for mapping and other geographic analysis in the data portal software"
   ]
  },
  {
   "cell_type": "markdown",
   "metadata": {},
   "source": [
    "# -Business problem \n",
    "\n",
    "Chicago, on Lake Michigan in Illinois, is among the largest cities in the U.S.\n",
    "Chicago Vehicle Safety Board interested in reducing traffic accidents in the city.\n",
    "The provided dataset consist of a large amount of collision data recorded over many years in the Chicago city. This dataset also provides various information which are some related to the cause of the crash."
   ]
  },
  {
   "cell_type": "markdown",
   "metadata": {},
   "source": [
    "# -Data Cleaning & Pre-Processing\n",
    "\n",
    "This dataset is obtained from Chicago Data Portal and usually any dataset obtained will not be in a clean format, it will always contain some missing values and some irrelevant data. This dataset too consist of a lot of missing values and useless data. so before further processing the data it is important to clean the dataset.\n",
    "\n",
    "- Cleaning Binary columns. \n",
    "- Cleaning categorical columns.\n",
    "- Cleaning columns with a lot of missing values and not useful and irrelevant for Predicting     of our model.\n",
    "- Drop irrelevant columns to predict our model."
   ]
  },
  {
   "cell_type": "markdown",
   "metadata": {},
   "source": [
    "# -Data exploration \n",
    "\n",
    " Exploring the columns and their values and finding the best way organize them. \n",
    " The dataset was very large which made it Difficult to navigate through it. In the \n",
    " First notebook I decided to drop lots of columns so I do not run into issue such as \n",
    " Memory size, computer slowing down and categorizing the column's values. I noticed \n",
    " Lots of the Binary columns had missing data, and the categorical columns had lot \n",
    " of similar Variables I can group.\n",
    " "
   ]
  },
  {
   "cell_type": "markdown",
   "metadata": {},
   "source": [
    "# - visualization"
   ]
  },
  {
   "cell_type": "markdown",
   "metadata": {},
   "source": [
    "![Primary Crash Cause vs Number of Crashes](images/1.png)"
   ]
  },
  {
   "cell_type": "markdown",
   "metadata": {
    "ExecuteTime": {
     "end_time": "2021-02-21T22:52:24.328297Z",
     "start_time": "2021-02-21T22:52:24.021819Z"
    }
   },
   "source": [
    "![Primary Crash Cause Vs injuries](images/2.png)"
   ]
  },
  {
   "cell_type": "markdown",
   "metadata": {},
   "source": [
    "![Primary Crash Cause Vs Fatal](images/3.png)"
   ]
  },
  {
   "cell_type": "markdown",
   "metadata": {},
   "source": [
    "![Weather Conditions Vs Number of Crashes](images/4.png)"
   ]
  },
  {
   "cell_type": "markdown",
   "metadata": {},
   "source": [
    "![Light conditions Vs Number of Crashes](images/5.png)"
   ]
  },
  {
   "cell_type": "markdown",
   "metadata": {},
   "source": [
    "# - Cleaning categorical Columns "
   ]
  },
  {
   "cell_type": "markdown",
   "metadata": {},
   "source": [
    "- First notebook since I was worried about the computer slowing down because of the large\n",
    "  data, I thought i would be good idea to group the variables in the categorical columns\n",
    "  and narrow them down to two variables, and the second reason i decided to use this way \n",
    "  because i thought by narrowing down the variables that would help my model accuracy.\n",
    "  \n",
    "  For Binary variables I decided to full their missing data with NOs, and switched the \n",
    "  YESs to 1 and NOs to 0 since machine learning algorithms works with Digits. I decided to \n",
    "  use this approach because most of the Binary columns were Relevant to the model prediction \n",
    "  and they had lots of missing data and i wanted to avoid dropping NAn. \n",
    "  \n",
    "  For the target column I organized the variables from the top 5 primary cause of crash, \n",
    "  I listed the variables with the least data all together under others.\n",
    "  \n",
    "\n",
    "- Second notebook I decide to add more columns to help with my model accuracy.\n",
    "  and did not group the categorical columns variables."
   ]
  },
  {
   "cell_type": "markdown",
   "metadata": {},
   "source": [
    "# -Modeling"
   ]
  },
  {
   "cell_type": "markdown",
   "metadata": {},
   "source": [
    "- I used [ Decision Tree, Random Forest Classifier, Logistic Regression ]\n",
    "\n",
    "\n",
    "\n",
    "- Conclusion\n",
    "  \n",
    "  Initially, The classifiers had an prediction accuracy of 39%, however, upon going back   to the data preparation and taking additional fields in the dataset improved the overall       accuracy of all models.\n",
    "  The accuracy of the classifiers is ok, i.e.0.59% . This means that the model has              trained better this time around and fits the training data and performs well on the testing set as well as the training set. We can conclude that this model can predict the primary cause of the crashes in Chicago with an Accuracy of 60%.\n",
    "  \n",
    "  "
   ]
  },
  {
   "cell_type": "markdown",
   "metadata": {
    "ExecuteTime": {
     "end_time": "2021-02-21T23:36:54.529839Z",
     "start_time": "2021-02-21T23:36:54.499882Z"
    }
   },
   "source": [
    "jupyter nbconvert --to markdown notebookname.ipynb"
   ]
  },
  {
   "cell_type": "code",
   "execution_count": null,
   "metadata": {},
   "outputs": [],
   "source": []
  }
 ],
 "metadata": {
  "kernelspec": {
   "display_name": "Python 3",
   "language": "python",
   "name": "python3"
  },
  "language_info": {
   "codemirror_mode": {
    "name": "ipython",
    "version": 3
   },
   "file_extension": ".py",
   "mimetype": "text/x-python",
   "name": "python",
   "nbconvert_exporter": "python",
   "pygments_lexer": "ipython3",
   "version": "3.8.5"
  },
  "toc": {
   "base_numbering": 1,
   "nav_menu": {},
   "number_sections": true,
   "sideBar": true,
   "skip_h1_title": false,
   "title_cell": "Table of Contents",
   "title_sidebar": "Contents",
   "toc_cell": false,
   "toc_position": {},
   "toc_section_display": true,
   "toc_window_display": false
  },
  "varInspector": {
   "cols": {
    "lenName": 16,
    "lenType": 16,
    "lenVar": 40
   },
   "kernels_config": {
    "python": {
     "delete_cmd_postfix": "",
     "delete_cmd_prefix": "del ",
     "library": "var_list.py",
     "varRefreshCmd": "print(var_dic_list())"
    },
    "r": {
     "delete_cmd_postfix": ") ",
     "delete_cmd_prefix": "rm(",
     "library": "var_list.r",
     "varRefreshCmd": "cat(var_dic_list()) "
    }
   },
   "types_to_exclude": [
    "module",
    "function",
    "builtin_function_or_method",
    "instance",
    "_Feature"
   ],
   "window_display": false
  }
 },
 "nbformat": 4,
 "nbformat_minor": 4
}
