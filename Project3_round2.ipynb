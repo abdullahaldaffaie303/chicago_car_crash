{
 "cells": [
  {
   "cell_type": "markdown",
   "metadata": {
    "ExecuteTime": {
     "end_time": "2021-02-21T21:47:16.452923Z",
     "start_time": "2021-02-21T21:47:16.415561Z"
    }
   },
   "source": [
    "##### Project 3 #####\n",
    "\n",
    "* Student name: Abdullah Al Daffaie\n",
    "* Student pace: full time\n",
    "* Instructor name: Abhineet Kulkarni"
   ]
  },
  {
   "cell_type": "code",
   "execution_count": 1,
   "metadata": {
    "ExecuteTime": {
     "end_time": "2021-02-21T21:19:20.361389Z",
     "start_time": "2021-02-21T21:19:18.822188Z"
    }
   },
   "outputs": [],
   "source": [
    "# Import needed libraries \n",
    "import pandas as pd \n",
    "import numpy as np \n",
    "import seaborn as sns \n",
    "import matplotlib.pyplot as plt \n",
    "%matplotlib inline"
   ]
  },
  {
   "cell_type": "code",
   "execution_count": 2,
   "metadata": {
    "ExecuteTime": {
     "end_time": "2021-02-21T21:19:24.593040Z",
     "start_time": "2021-02-21T21:19:20.364653Z"
    }
   },
   "outputs": [
    {
     "name": "stderr",
     "output_type": "stream",
     "text": [
      "/Users/abdullahaldaffaie/opt/anaconda3/envs/learn-env/lib/python3.8/site-packages/IPython/core/interactiveshell.py:3145: DtypeWarning: Columns (33) have mixed types.Specify dtype option on import or set low_memory=False.\n",
      "  has_raised = await self.run_ast_nodes(code_ast.body, cell_name,\n"
     ]
    }
   ],
   "source": [
    "# Read CSV files\n",
    "data = pd.read_csv('Traffic_Crashes_-_Crashes.csv')"
   ]
  },
  {
   "cell_type": "code",
   "execution_count": 3,
   "metadata": {
    "ExecuteTime": {
     "end_time": "2021-02-21T21:19:24.794518Z",
     "start_time": "2021-02-21T21:19:24.595687Z"
    }
   },
   "outputs": [],
   "source": [
    "data = data [['CRASH_DATE','POSTED_SPEED_LIMIT','TRAFFIC_CONTROL_DEVICE',\n",
    "          'DEVICE_CONDITION','WEATHER_CONDITION','LIGHTING_CONDITION','FIRST_CRASH_TYPE',\n",
    "         'ALIGNMENT','ROADWAY_SURFACE_COND','ROAD_DEFECT','CRASH_TYPE','INTERSECTION_RELATED_I',\n",
    "         'NOT_RIGHT_OF_WAY_I','HIT_AND_RUN_I','PRIM_CONTRIBUTORY_CAUSE','SEC_CONTRIBUTORY_CAUSE',\n",
    "         'DOORING_I','WORK_ZONE_I','MOST_SEVERE_INJURY','INJURIES_TOTAL','INJURIES_FATAL',\n",
    "         'INJURIES_INCAPACITATING','INJURIES_NON_INCAPACITATING','INJURIES_REPORTED_NOT_EVIDENT'\n",
    "         ,'INJURIES_NO_INDICATION','CRASH_HOUR','CRASH_DAY_OF_WEEK','CRASH_MONTH'\n",
    "         ,'LATITUDE','LONGITUDE','LOCATION','WORKERS_PRESENT_I']]"
   ]
  },
  {
   "cell_type": "code",
   "execution_count": 4,
   "metadata": {
    "ExecuteTime": {
     "end_time": "2021-02-21T21:19:24.922761Z",
     "start_time": "2021-02-21T21:19:24.797001Z"
    }
   },
   "outputs": [],
   "source": [
    "data['PRIM_CONTRIBUTORY_CAUSE'] = [j if i in ['UNABLE TO DETERMINE', 'NOT APPLICABLE'] and \n",
    "                                 j not in ['UNABLE TO DETERMINE', 'NOT APPLICABLE'] else \n",
    "                                 i for i,j in zip(data['PRIM_CONTRIBUTORY_CAUSE'], data['SEC_CONTRIBUTORY_CAUSE'])]"
   ]
  },
  {
   "cell_type": "code",
   "execution_count": 5,
   "metadata": {
    "ExecuteTime": {
     "end_time": "2021-02-21T21:19:24.978960Z",
     "start_time": "2021-02-21T21:19:24.924484Z"
    }
   },
   "outputs": [],
   "source": [
    "df = data.drop(['CRASH_DATE','LOCATION'], axis=1) "
   ]
  },
  {
   "cell_type": "code",
   "execution_count": 6,
   "metadata": {
    "ExecuteTime": {
     "end_time": "2021-02-21T21:19:24.982673Z",
     "start_time": "2021-02-21T21:19:24.980539Z"
    }
   },
   "outputs": [],
   "source": [
    "bi_cols = ['INTERSECTION_RELATED_I', 'NOT_RIGHT_OF_WAY_I','HIT_AND_RUN_I', \n",
    "            'DOORING_I', 'WORK_ZONE_I','WORKERS_PRESENT_I']"
   ]
  },
  {
   "cell_type": "code",
   "execution_count": 7,
   "metadata": {
    "ExecuteTime": {
     "end_time": "2021-02-21T21:19:25.964127Z",
     "start_time": "2021-02-21T21:19:24.984661Z"
    }
   },
   "outputs": [
    {
     "name": "stdout",
     "output_type": "stream",
     "text": [
      "0    374144\n",
      "1    102669\n",
      "Name: INTERSECTION_RELATED_I, dtype: int64\n",
      "Number of nulls: 0\n",
      "\n",
      "0    456373\n",
      "1     20440\n",
      "Name: NOT_RIGHT_OF_WAY_I, dtype: int64\n",
      "Number of nulls: 0\n",
      "\n",
      "0    343189\n",
      "1    133624\n",
      "Name: HIT_AND_RUN_I, dtype: int64\n",
      "Number of nulls: 0\n",
      "\n",
      "0    475753\n",
      "1      1060\n",
      "Name: DOORING_I, dtype: int64\n",
      "Number of nulls: 0\n",
      "\n",
      "0    474363\n",
      "1      2450\n",
      "Name: WORK_ZONE_I, dtype: int64\n",
      "Number of nulls: 0\n",
      "\n",
      "0    476151\n",
      "1       662\n",
      "Name: WORKERS_PRESENT_I, dtype: int64\n",
      "Number of nulls: 0\n",
      "\n"
     ]
    }
   ],
   "source": [
    "for col in bi_cols:\n",
    "    df[col] = df[col].map(lambda x: 1 if x =='Y' else 0)\n",
    "    print(df[col].value_counts())\n",
    "    print('Number of nulls:' , df[col].isnull().sum())\n",
    "    print(\"\")"
   ]
  },
  {
   "cell_type": "code",
   "execution_count": 8,
   "metadata": {
    "ExecuteTime": {
     "end_time": "2021-02-21T21:19:28.154938Z",
     "start_time": "2021-02-21T21:19:25.967596Z"
    }
   },
   "outputs": [],
   "source": [
    "df.replace(to_replace={'UNKNOWN': np.nan, 'OTHER':np.nan, \n",
    "                       'NOT APPLICABLE': np.nan, 'UNABLE TO DETERMINE': np.nan}, inplace=True)"
   ]
  },
  {
   "cell_type": "code",
   "execution_count": 9,
   "metadata": {
    "ExecuteTime": {
     "end_time": "2021-02-21T21:19:28.436379Z",
     "start_time": "2021-02-21T21:19:28.157843Z"
    }
   },
   "outputs": [],
   "source": [
    "df.dropna(inplace=True)"
   ]
  },
  {
   "cell_type": "code",
   "execution_count": 10,
   "metadata": {
    "ExecuteTime": {
     "end_time": "2021-02-21T21:19:28.456753Z",
     "start_time": "2021-02-21T21:19:28.438211Z"
    }
   },
   "outputs": [
    {
     "data": {
      "text/plain": [
       "FAILING TO YIELD RIGHT-OF-WAY                                                       17555\n",
       "FOLLOWING TOO CLOSELY                                                               16265\n",
       "FAILING TO REDUCE SPEED TO AVOID CRASH                                               8099\n",
       "IMPROPER OVERTAKING/PASSING                                                          7741\n",
       "IMPROPER LANE USAGE                                                                  5884\n",
       "IMPROPER TURNING/NO SIGNAL                                                           5649\n",
       "IMPROPER BACKING                                                                     5444\n",
       "DRIVING SKILLS/KNOWLEDGE/EXPERIENCE                                                  3922\n",
       "DISREGARDING TRAFFIC SIGNALS                                                         3366\n",
       "WEATHER                                                                              2822\n",
       "OPERATING VEHICLE IN ERRATIC, RECKLESS, CARELESS, NEGLIGENT OR AGGRESSIVE MANNER     2485\n",
       "DISREGARDING STOP SIGN                                                               2168\n",
       "UNDER THE INFLUENCE OF ALCOHOL/DRUGS (USE WHEN ARREST IS EFFECTED)                   1484\n",
       "DISTRACTION - FROM INSIDE VEHICLE                                                    1319\n",
       "EXCEEDING AUTHORIZED SPEED LIMIT                                                     1110\n",
       "PHYSICAL CONDITION OF DRIVER                                                         1077\n",
       "EXCEEDING SAFE SPEED FOR CONDITIONS                                                   999\n",
       "DRIVING ON WRONG SIDE/WRONG WAY                                                       949\n",
       "VISION OBSCURED (SIGNS, TREE LIMBS, BUILDINGS, ETC.)                                  939\n",
       "EQUIPMENT - VEHICLE CONDITION                                                         870\n",
       "DISTRACTION - FROM OUTSIDE VEHICLE                                                    692\n",
       "DISREGARDING OTHER TRAFFIC SIGNS                                                      389\n",
       "HAD BEEN DRINKING (USE WHEN ARREST IS NOT MADE)                                       374\n",
       "ROAD ENGINEERING/SURFACE/MARKING DEFECTS                                              352\n",
       "DISREGARDING ROAD MARKINGS                                                            311\n",
       "ROAD CONSTRUCTION/MAINTENANCE                                                         303\n",
       "CELL PHONE USE OTHER THAN TEXTING                                                     295\n",
       "EVASIVE ACTION DUE TO ANIMAL, OBJECT, NONMOTORIST                                     240\n",
       "ANIMAL                                                                                175\n",
       "TURNING RIGHT ON RED                                                                  144\n",
       "DISTRACTION - OTHER ELECTRONIC DEVICE (NAVIGATION DEVICE, DVD PLAYER, ETC.)           105\n",
       "TEXTING                                                                                90\n",
       "BICYCLE ADVANCING LEGALLY ON RED LIGHT                                                 82\n",
       "RELATED TO BUS STOP                                                                    78\n",
       "DISREGARDING YIELD SIGN                                                                76\n",
       "PASSING STOPPED SCHOOL BUS                                                             28\n",
       "OBSTRUCTED CROSSWALKS                                                                  22\n",
       "MOTORCYCLE ADVANCING LEGALLY ON RED LIGHT                                              19\n",
       "Name: PRIM_CONTRIBUTORY_CAUSE, dtype: int64"
      ]
     },
     "execution_count": 10,
     "metadata": {},
     "output_type": "execute_result"
    }
   ],
   "source": [
    "df['PRIM_CONTRIBUTORY_CAUSE'].value_counts()"
   ]
  },
  {
   "cell_type": "code",
   "execution_count": 11,
   "metadata": {
    "ExecuteTime": {
     "end_time": "2021-02-21T21:19:28.484950Z",
     "start_time": "2021-02-21T21:19:28.458742Z"
    }
   },
   "outputs": [
    {
     "data": {
      "text/plain": [
       "OTHER                                     38818\n",
       "FAILING TO YIELD RIGHT-OF-WAY             17555\n",
       "FOLLOWING TOO CLOSELY                     16265\n",
       "FAILING TO REDUCE SPEED TO AVOID CRASH     8099\n",
       "IMPROPER OVERTAKING/PASSING                7741\n",
       "IMPROPER BACKING                           5444\n",
       "Name: PRIM_CONTRIBUTORY_CAUSE, dtype: int64"
      ]
     },
     "execution_count": 11,
     "metadata": {},
     "output_type": "execute_result"
    }
   ],
   "source": [
    "crash_cause_dict = {'FAILING TO YIELD RIGHT-OF-WAY':'FAILING TO YIELD RIGHT-OF-WAY', \n",
    "                    'FOLLOWING TOO CLOSELY':'FOLLOWING TOO CLOSELY', \n",
    "                    'IMPROPER OVERTAKING/PASSING':'IMPROPER OVERTAKING/PASSING', \n",
    "                    'FAILING TO REDUCE SPEED TO AVOID CRASH':'FAILING TO REDUCE SPEED TO AVOID CRASH', \n",
    "                    'IMPROPER BACKING': 'IMPROPER BACKING',\n",
    "                    'IMPROPER LANE USAGE':'OTHER', 'IMPROPER TURNING/NO SIGNAL':'OTHER',\n",
    "                    'DRIVING SKILLS/KNOWLEDGE/EXPERIENCE':'OTHER',\n",
    "                    'DISREGARDING TRAFFIC SIGNALS':'OTHER', 'WEATHER':'OTHER',\n",
    "                    'OPERATING VEHICLE IN ERRATIC, RECKLESS, CARELESS, NEGLIGENT OR AGGRESSIVE MANNER':'OTHER',\n",
    "                    'DISREGARDING STOP SIGN':'OTHER', 'DISTRACTION - FROM INSIDE VEHICLE':'OTHER',\n",
    "                    'PHYSICAL CONDITION OF DRIVER':'OTHER', 'EQUIPMENT - VEHICLE CONDITION':'OTHER',\n",
    "                    'VISION OBSCURED (SIGNS, TREE LIMBS, BUILDINGS, ETC.)':'OTHER',\n",
    "                    'UNDER THE INFLUENCE OF ALCOHOL/DRUGS (USE WHEN ARREST IS EFFECTED)':'OTHER',\n",
    "                    'DRIVING ON WRONG SIDE/WRONG WAY':'OTHER', 'DISTRACTION - FROM OUTSIDE VEHICLE':'OTHER',\n",
    "                    'EXCEEDING AUTHORIZED SPEED LIMIT':'OTHER', 'EXCEEDING SAFE SPEED FOR CONDITIONS':'OTHER',\n",
    "                    'ROAD ENGINEERING/SURFACE/MARKING DEFECTS':'OTHER',\n",
    "                    'ROAD CONSTRUCTION/MAINTENANCE':'OTHER', 'DISREGARDING OTHER TRAFFIC SIGNS':'OTHER',\n",
    "                    'EVASIVE ACTION DUE TO ANIMAL, OBJECT, NONMOTORIST':'OTHER',\n",
    "                    'HAD BEEN DRINKING (USE WHEN ARREST IS NOT MADE)':'OTHER',\n",
    "                    'CELL PHONE USE OTHER THAN TEXTING': 'OTHER',\n",
    "                    'DISREGARDING ROAD MARKINGS':'OTHER', 'ANIMAL':'OTHER',\n",
    "                    'TURNING RIGHT ON RED':'OTHER',\n",
    "                    'DISTRACTION - OTHER ELECTRONIC DEVICE (NAVIGATION DEVICE, DVD PLAYER, ETC.)':'OTHER',\n",
    "                    'TEXTING':'OTHER','DISREGARDING YIELD SIGN':'OTHER',\n",
    "                    'RELATED TO BUS STOP':'OTHER', 'BICYCLE ADVANCING LEGALLY ON RED LIGHT':'OTHER',\n",
    "                    'PASSING STOPPED SCHOOL BUS':'OTHER', 'OBSTRUCTED CROSSWALKS':'OTHER',\n",
    "                    'MOTORCYCLE ADVANCING LEGALLY ON RED LIGHT':'OTHER'}\n",
    "df['PRIM_CONTRIBUTORY_CAUSE'] = df['PRIM_CONTRIBUTORY_CAUSE'].map(crash_cause_dict)\n",
    "df['PRIM_CONTRIBUTORY_CAUSE'].value_counts()"
   ]
  },
  {
   "cell_type": "code",
   "execution_count": 12,
   "metadata": {
    "ExecuteTime": {
     "end_time": "2021-02-21T21:19:28.584901Z",
     "start_time": "2021-02-21T21:19:28.488359Z"
    }
   },
   "outputs": [
    {
     "data": {
      "text/plain": [
       "POSTED_SPEED_LIMIT               0\n",
       "TRAFFIC_CONTROL_DEVICE           0\n",
       "DEVICE_CONDITION                 0\n",
       "WEATHER_CONDITION                0\n",
       "LIGHTING_CONDITION               0\n",
       "FIRST_CRASH_TYPE                 0\n",
       "ALIGNMENT                        0\n",
       "ROADWAY_SURFACE_COND             0\n",
       "ROAD_DEFECT                      0\n",
       "CRASH_TYPE                       0\n",
       "INTERSECTION_RELATED_I           0\n",
       "NOT_RIGHT_OF_WAY_I               0\n",
       "HIT_AND_RUN_I                    0\n",
       "PRIM_CONTRIBUTORY_CAUSE          0\n",
       "SEC_CONTRIBUTORY_CAUSE           0\n",
       "DOORING_I                        0\n",
       "WORK_ZONE_I                      0\n",
       "MOST_SEVERE_INJURY               0\n",
       "INJURIES_TOTAL                   0\n",
       "INJURIES_FATAL                   0\n",
       "INJURIES_INCAPACITATING          0\n",
       "INJURIES_NON_INCAPACITATING      0\n",
       "INJURIES_REPORTED_NOT_EVIDENT    0\n",
       "INJURIES_NO_INDICATION           0\n",
       "CRASH_HOUR                       0\n",
       "CRASH_DAY_OF_WEEK                0\n",
       "CRASH_MONTH                      0\n",
       "LATITUDE                         0\n",
       "LONGITUDE                        0\n",
       "WORKERS_PRESENT_I                0\n",
       "dtype: int64"
      ]
     },
     "execution_count": 12,
     "metadata": {},
     "output_type": "execute_result"
    }
   ],
   "source": [
    "df.isnull().sum()"
   ]
  },
  {
   "cell_type": "code",
   "execution_count": 13,
   "metadata": {
    "ExecuteTime": {
     "end_time": "2021-02-21T21:19:28.653503Z",
     "start_time": "2021-02-21T21:19:28.588025Z"
    }
   },
   "outputs": [
    {
     "name": "stdout",
     "output_type": "stream",
     "text": [
      "<class 'pandas.core.frame.DataFrame'>\n",
      "Int64Index: 93922 entries, 2 to 476811\n",
      "Data columns (total 30 columns):\n",
      " #   Column                         Non-Null Count  Dtype  \n",
      "---  ------                         --------------  -----  \n",
      " 0   POSTED_SPEED_LIMIT             93922 non-null  int64  \n",
      " 1   TRAFFIC_CONTROL_DEVICE         93922 non-null  object \n",
      " 2   DEVICE_CONDITION               93922 non-null  object \n",
      " 3   WEATHER_CONDITION              93922 non-null  object \n",
      " 4   LIGHTING_CONDITION             93922 non-null  object \n",
      " 5   FIRST_CRASH_TYPE               93922 non-null  object \n",
      " 6   ALIGNMENT                      93922 non-null  object \n",
      " 7   ROADWAY_SURFACE_COND           93922 non-null  object \n",
      " 8   ROAD_DEFECT                    93922 non-null  object \n",
      " 9   CRASH_TYPE                     93922 non-null  object \n",
      " 10  INTERSECTION_RELATED_I         93922 non-null  int64  \n",
      " 11  NOT_RIGHT_OF_WAY_I             93922 non-null  int64  \n",
      " 12  HIT_AND_RUN_I                  93922 non-null  int64  \n",
      " 13  PRIM_CONTRIBUTORY_CAUSE        93922 non-null  object \n",
      " 14  SEC_CONTRIBUTORY_CAUSE         93922 non-null  object \n",
      " 15  DOORING_I                      93922 non-null  int64  \n",
      " 16  WORK_ZONE_I                    93922 non-null  int64  \n",
      " 17  MOST_SEVERE_INJURY             93922 non-null  object \n",
      " 18  INJURIES_TOTAL                 93922 non-null  float64\n",
      " 19  INJURIES_FATAL                 93922 non-null  float64\n",
      " 20  INJURIES_INCAPACITATING        93922 non-null  float64\n",
      " 21  INJURIES_NON_INCAPACITATING    93922 non-null  float64\n",
      " 22  INJURIES_REPORTED_NOT_EVIDENT  93922 non-null  float64\n",
      " 23  INJURIES_NO_INDICATION         93922 non-null  float64\n",
      " 24  CRASH_HOUR                     93922 non-null  int64  \n",
      " 25  CRASH_DAY_OF_WEEK              93922 non-null  int64  \n",
      " 26  CRASH_MONTH                    93922 non-null  int64  \n",
      " 27  LATITUDE                       93922 non-null  float64\n",
      " 28  LONGITUDE                      93922 non-null  float64\n",
      " 29  WORKERS_PRESENT_I              93922 non-null  int64  \n",
      "dtypes: float64(8), int64(10), object(12)\n",
      "memory usage: 22.2+ MB\n"
     ]
    }
   ],
   "source": [
    "df.info()"
   ]
  },
  {
   "cell_type": "code",
   "execution_count": 14,
   "metadata": {
    "ExecuteTime": {
     "end_time": "2021-02-21T21:19:29.018292Z",
     "start_time": "2021-02-21T21:19:28.655992Z"
    }
   },
   "outputs": [],
   "source": [
    "from sklearn.model_selection import train_test_split\n",
    "from sklearn.metrics import confusion_matrix, classification_report\n",
    "from sklearn.tree import DecisionTreeClassifier\n",
    "from sklearn.preprocessing import StandardScaler"
   ]
  },
  {
   "cell_type": "code",
   "execution_count": 15,
   "metadata": {
    "ExecuteTime": {
     "end_time": "2021-02-21T21:19:29.131513Z",
     "start_time": "2021-02-21T21:19:29.020927Z"
    }
   },
   "outputs": [],
   "source": [
    "df1 = pd.concat([df.drop([ 'MOST_SEVERE_INJURY', \n",
    "                          'CRASH_TYPE', 'ROADWAY_SURFACE_COND', 'ALIGNMENT',\n",
    "                          'LIGHTING_CONDITION','WEATHER_CONDITION','TRAFFIC_CONTROL_DEVICE',\n",
    "                          'DEVICE_CONDITION','FIRST_CRASH_TYPE','ROAD_DEFECT',\n",
    "                          'SEC_CONTRIBUTORY_CAUSE'], axis=1),\n",
    "                pd.get_dummies(df['MOST_SEVERE_INJURY']),\n",
    "                pd.get_dummies(df['CRASH_TYPE']),\n",
    "                pd.get_dummies(df['ROADWAY_SURFACE_COND']),\n",
    "                pd.get_dummies(df['ALIGNMENT']),\n",
    "                pd.get_dummies(df['LIGHTING_CONDITION']),\n",
    "                pd.get_dummies(df['WEATHER_CONDITION']), \n",
    "                pd.get_dummies(df['TRAFFIC_CONTROL_DEVICE']),\n",
    "                pd.get_dummies(df['DEVICE_CONDITION']),\n",
    "                pd.get_dummies(df['FIRST_CRASH_TYPE']),\n",
    "                pd.get_dummies(df['ROAD_DEFECT']),\n",
    "                pd.get_dummies(df['SEC_CONTRIBUTORY_CAUSE'])],axis=1)\n",
    "df1.reset_index(drop=True, inplace=True)"
   ]
  },
  {
   "cell_type": "code",
   "execution_count": 16,
   "metadata": {
    "ExecuteTime": {
     "end_time": "2021-02-21T21:19:29.142143Z",
     "start_time": "2021-02-21T21:19:29.133058Z"
    }
   },
   "outputs": [
    {
     "name": "stdout",
     "output_type": "stream",
     "text": [
      "<class 'pandas.core.frame.DataFrame'>\n",
      "RangeIndex: 93922 entries, 0 to 93921\n",
      "Columns: 136 entries, POSTED_SPEED_LIMIT to WEATHER\n",
      "dtypes: float64(8), int64(10), object(1), uint8(117)\n",
      "memory usage: 24.1+ MB\n"
     ]
    }
   ],
   "source": [
    "df1.info()"
   ]
  },
  {
   "cell_type": "code",
   "execution_count": 17,
   "metadata": {
    "ExecuteTime": {
     "end_time": "2021-02-21T21:19:29.158438Z",
     "start_time": "2021-02-21T21:19:29.143607Z"
    }
   },
   "outputs": [
    {
     "data": {
      "text/html": [
       "<div>\n",
       "<style scoped>\n",
       "    .dataframe tbody tr th:only-of-type {\n",
       "        vertical-align: middle;\n",
       "    }\n",
       "\n",
       "    .dataframe tbody tr th {\n",
       "        vertical-align: top;\n",
       "    }\n",
       "\n",
       "    .dataframe thead th {\n",
       "        text-align: right;\n",
       "    }\n",
       "</style>\n",
       "<table border=\"1\" class=\"dataframe\">\n",
       "  <thead>\n",
       "    <tr style=\"text-align: right;\">\n",
       "      <th></th>\n",
       "      <th>0</th>\n",
       "      <th>1</th>\n",
       "      <th>2</th>\n",
       "      <th>3</th>\n",
       "      <th>4</th>\n",
       "    </tr>\n",
       "  </thead>\n",
       "  <tbody>\n",
       "    <tr>\n",
       "      <th>POSTED_SPEED_LIMIT</th>\n",
       "      <td>30</td>\n",
       "      <td>30</td>\n",
       "      <td>15</td>\n",
       "      <td>30</td>\n",
       "      <td>20</td>\n",
       "    </tr>\n",
       "    <tr>\n",
       "      <th>INTERSECTION_RELATED_I</th>\n",
       "      <td>0</td>\n",
       "      <td>0</td>\n",
       "      <td>0</td>\n",
       "      <td>0</td>\n",
       "      <td>0</td>\n",
       "    </tr>\n",
       "    <tr>\n",
       "      <th>NOT_RIGHT_OF_WAY_I</th>\n",
       "      <td>0</td>\n",
       "      <td>0</td>\n",
       "      <td>0</td>\n",
       "      <td>0</td>\n",
       "      <td>0</td>\n",
       "    </tr>\n",
       "    <tr>\n",
       "      <th>HIT_AND_RUN_I</th>\n",
       "      <td>0</td>\n",
       "      <td>0</td>\n",
       "      <td>0</td>\n",
       "      <td>0</td>\n",
       "      <td>0</td>\n",
       "    </tr>\n",
       "    <tr>\n",
       "      <th>PRIM_CONTRIBUTORY_CAUSE</th>\n",
       "      <td>FAILING TO YIELD RIGHT-OF-WAY</td>\n",
       "      <td>OTHER</td>\n",
       "      <td>FAILING TO YIELD RIGHT-OF-WAY</td>\n",
       "      <td>FOLLOWING TOO CLOSELY</td>\n",
       "      <td>OTHER</td>\n",
       "    </tr>\n",
       "    <tr>\n",
       "      <th>...</th>\n",
       "      <td>...</td>\n",
       "      <td>...</td>\n",
       "      <td>...</td>\n",
       "      <td>...</td>\n",
       "      <td>...</td>\n",
       "    </tr>\n",
       "    <tr>\n",
       "      <th>TEXTING</th>\n",
       "      <td>0</td>\n",
       "      <td>0</td>\n",
       "      <td>0</td>\n",
       "      <td>0</td>\n",
       "      <td>0</td>\n",
       "    </tr>\n",
       "    <tr>\n",
       "      <th>TURNING RIGHT ON RED</th>\n",
       "      <td>0</td>\n",
       "      <td>0</td>\n",
       "      <td>0</td>\n",
       "      <td>0</td>\n",
       "      <td>0</td>\n",
       "    </tr>\n",
       "    <tr>\n",
       "      <th>UNDER THE INFLUENCE OF ALCOHOL/DRUGS (USE WHEN ARREST IS EFFECTED)</th>\n",
       "      <td>0</td>\n",
       "      <td>0</td>\n",
       "      <td>0</td>\n",
       "      <td>0</td>\n",
       "      <td>0</td>\n",
       "    </tr>\n",
       "    <tr>\n",
       "      <th>VISION OBSCURED (SIGNS, TREE LIMBS, BUILDINGS, ETC.)</th>\n",
       "      <td>0</td>\n",
       "      <td>0</td>\n",
       "      <td>0</td>\n",
       "      <td>0</td>\n",
       "      <td>0</td>\n",
       "    </tr>\n",
       "    <tr>\n",
       "      <th>WEATHER</th>\n",
       "      <td>0</td>\n",
       "      <td>0</td>\n",
       "      <td>0</td>\n",
       "      <td>0</td>\n",
       "      <td>0</td>\n",
       "    </tr>\n",
       "  </tbody>\n",
       "</table>\n",
       "<p>136 rows × 5 columns</p>\n",
       "</div>"
      ],
      "text/plain": [
       "                                                                                0  \\\n",
       "POSTED_SPEED_LIMIT                                                             30   \n",
       "INTERSECTION_RELATED_I                                                          0   \n",
       "NOT_RIGHT_OF_WAY_I                                                              0   \n",
       "HIT_AND_RUN_I                                                                   0   \n",
       "PRIM_CONTRIBUTORY_CAUSE                             FAILING TO YIELD RIGHT-OF-WAY   \n",
       "...                                                                           ...   \n",
       "TEXTING                                                                         0   \n",
       "TURNING RIGHT ON RED                                                            0   \n",
       "UNDER THE INFLUENCE OF ALCOHOL/DRUGS (USE WHEN ...                              0   \n",
       "VISION OBSCURED (SIGNS, TREE LIMBS, BUILDINGS, ...                              0   \n",
       "WEATHER                                                                         0   \n",
       "\n",
       "                                                        1  \\\n",
       "POSTED_SPEED_LIMIT                                     30   \n",
       "INTERSECTION_RELATED_I                                  0   \n",
       "NOT_RIGHT_OF_WAY_I                                      0   \n",
       "HIT_AND_RUN_I                                           0   \n",
       "PRIM_CONTRIBUTORY_CAUSE                             OTHER   \n",
       "...                                                   ...   \n",
       "TEXTING                                                 0   \n",
       "TURNING RIGHT ON RED                                    0   \n",
       "UNDER THE INFLUENCE OF ALCOHOL/DRUGS (USE WHEN ...      0   \n",
       "VISION OBSCURED (SIGNS, TREE LIMBS, BUILDINGS, ...      0   \n",
       "WEATHER                                                 0   \n",
       "\n",
       "                                                                                2  \\\n",
       "POSTED_SPEED_LIMIT                                                             15   \n",
       "INTERSECTION_RELATED_I                                                          0   \n",
       "NOT_RIGHT_OF_WAY_I                                                              0   \n",
       "HIT_AND_RUN_I                                                                   0   \n",
       "PRIM_CONTRIBUTORY_CAUSE                             FAILING TO YIELD RIGHT-OF-WAY   \n",
       "...                                                                           ...   \n",
       "TEXTING                                                                         0   \n",
       "TURNING RIGHT ON RED                                                            0   \n",
       "UNDER THE INFLUENCE OF ALCOHOL/DRUGS (USE WHEN ...                              0   \n",
       "VISION OBSCURED (SIGNS, TREE LIMBS, BUILDINGS, ...                              0   \n",
       "WEATHER                                                                         0   \n",
       "\n",
       "                                                                        3  \\\n",
       "POSTED_SPEED_LIMIT                                                     30   \n",
       "INTERSECTION_RELATED_I                                                  0   \n",
       "NOT_RIGHT_OF_WAY_I                                                      0   \n",
       "HIT_AND_RUN_I                                                           0   \n",
       "PRIM_CONTRIBUTORY_CAUSE                             FOLLOWING TOO CLOSELY   \n",
       "...                                                                   ...   \n",
       "TEXTING                                                                 0   \n",
       "TURNING RIGHT ON RED                                                    0   \n",
       "UNDER THE INFLUENCE OF ALCOHOL/DRUGS (USE WHEN ...                      0   \n",
       "VISION OBSCURED (SIGNS, TREE LIMBS, BUILDINGS, ...                      0   \n",
       "WEATHER                                                                 0   \n",
       "\n",
       "                                                        4  \n",
       "POSTED_SPEED_LIMIT                                     20  \n",
       "INTERSECTION_RELATED_I                                  0  \n",
       "NOT_RIGHT_OF_WAY_I                                      0  \n",
       "HIT_AND_RUN_I                                           0  \n",
       "PRIM_CONTRIBUTORY_CAUSE                             OTHER  \n",
       "...                                                   ...  \n",
       "TEXTING                                                 0  \n",
       "TURNING RIGHT ON RED                                    0  \n",
       "UNDER THE INFLUENCE OF ALCOHOL/DRUGS (USE WHEN ...      0  \n",
       "VISION OBSCURED (SIGNS, TREE LIMBS, BUILDINGS, ...      0  \n",
       "WEATHER                                                 0  \n",
       "\n",
       "[136 rows x 5 columns]"
      ]
     },
     "execution_count": 17,
     "metadata": {},
     "output_type": "execute_result"
    }
   ],
   "source": [
    "df1.head().T"
   ]
  },
  {
   "cell_type": "code",
   "execution_count": 18,
   "metadata": {
    "ExecuteTime": {
     "end_time": "2021-02-21T21:19:32.660550Z",
     "start_time": "2021-02-21T21:19:29.160215Z"
    }
   },
   "outputs": [
    {
     "data": {
      "image/png": "[encoded data removed]",
      "text/plain": [
       "<Figure size 432x288 with 2 Axes>"
      ]
     },
     "metadata": {
      "needs_background": "light"
     },
     "output_type": "display_data"
    }
   ],
   "source": [
    "sns.heatmap(df1.corr(), cmap='YlGnBu_r')\n",
    "plt.show()"
   ]
  },
  {
   "cell_type": "markdown",
   "metadata": {},
   "source": [
    "# - Decision Tree"
   ]
  },
  {
   "cell_type": "code",
   "execution_count": 19,
   "metadata": {
    "ExecuteTime": {
     "end_time": "2021-02-21T21:19:33.029046Z",
     "start_time": "2021-02-21T21:19:32.662202Z"
    }
   },
   "outputs": [],
   "source": [
    "x = df1.drop('PRIM_CONTRIBUTORY_CAUSE', axis=1).values\n",
    "y = df1['PRIM_CONTRIBUTORY_CAUSE'].values\n",
    "X = StandardScaler().fit(x).transform(x)"
   ]
  },
  {
   "cell_type": "code",
   "execution_count": 20,
   "metadata": {
    "ExecuteTime": {
     "end_time": "2021-02-21T21:19:33.308805Z",
     "start_time": "2021-02-21T21:19:33.030980Z"
    }
   },
   "outputs": [],
   "source": [
    "x_train, x_test, y_train, y_test = train_test_split(X, y, test_size=0.2, random_state=42)"
   ]
  },
  {
   "cell_type": "code",
   "execution_count": 21,
   "metadata": {
    "ExecuteTime": {
     "end_time": "2021-02-21T21:19:33.314614Z",
     "start_time": "2021-02-21T21:19:33.311524Z"
    }
   },
   "outputs": [],
   "source": [
    "dtree = DecisionTreeClassifier(random_state=42)"
   ]
  },
  {
   "cell_type": "code",
   "execution_count": 22,
   "metadata": {
    "ExecuteTime": {
     "end_time": "2021-02-21T21:19:35.212764Z",
     "start_time": "2021-02-21T21:19:33.317094Z"
    }
   },
   "outputs": [
    {
     "data": {
      "text/plain": [
       "DecisionTreeClassifier(random_state=42)"
      ]
     },
     "execution_count": 22,
     "metadata": {},
     "output_type": "execute_result"
    }
   ],
   "source": [
    "dtree.fit(x_train,y_train)"
   ]
  },
  {
   "cell_type": "code",
   "execution_count": 23,
   "metadata": {
    "ExecuteTime": {
     "end_time": "2021-02-21T21:19:35.235874Z",
     "start_time": "2021-02-21T21:19:35.219433Z"
    }
   },
   "outputs": [],
   "source": [
    "yhat1 = dtree.predict(x_test)"
   ]
  },
  {
   "cell_type": "code",
   "execution_count": 24,
   "metadata": {
    "ExecuteTime": {
     "end_time": "2021-02-21T21:19:35.679069Z",
     "start_time": "2021-02-21T21:19:35.240505Z"
    }
   },
   "outputs": [
    {
     "name": "stdout",
     "output_type": "stream",
     "text": [
      "[[ 415  157  379   55   85  558]\n",
      " [ 163 1478  171  146  310 1306]\n",
      " [ 398  164 1808   70  101  646]\n",
      " [  63  125   62  489   52  291]\n",
      " [  76  272  112   46  462  580]\n",
      " [ 589 1314  662  311  625 4244]]\n",
      "                                        precision    recall  f1-score   support\n",
      "\n",
      "FAILING TO REDUCE SPEED TO AVOID CRASH       0.24      0.25      0.25      1649\n",
      "         FAILING TO YIELD RIGHT-OF-WAY       0.42      0.41      0.42      3574\n",
      "                 FOLLOWING TOO CLOSELY       0.57      0.57      0.57      3187\n",
      "                      IMPROPER BACKING       0.44      0.45      0.44      1082\n",
      "           IMPROPER OVERTAKING/PASSING       0.28      0.30      0.29      1548\n",
      "                                 OTHER       0.56      0.55      0.55      7745\n",
      "\n",
      "                              accuracy                           0.47     18785\n",
      "                             macro avg       0.42      0.42      0.42     18785\n",
      "                          weighted avg       0.48      0.47      0.47     18785\n",
      "\n"
     ]
    }
   ],
   "source": [
    "print(confusion_matrix(y_test, yhat1))\n",
    "print(classification_report(y_test, yhat1))"
   ]
  },
  {
   "cell_type": "markdown",
   "metadata": {},
   "source": [
    "# - Random Forest Classifier"
   ]
  },
  {
   "cell_type": "code",
   "execution_count": 28,
   "metadata": {
    "ExecuteTime": {
     "end_time": "2021-02-21T21:25:23.575836Z",
     "start_time": "2021-02-21T21:25:23.012061Z"
    }
   },
   "outputs": [],
   "source": [
    "from sklearn.ensemble import RandomForestClassifier"
   ]
  },
  {
   "cell_type": "code",
   "execution_count": 30,
   "metadata": {
    "ExecuteTime": {
     "end_time": "2021-02-21T21:27:17.630923Z",
     "start_time": "2021-02-21T21:27:03.897548Z"
    }
   },
   "outputs": [],
   "source": [
    "rf_model = RandomForestClassifier(n_estimators=75)\n",
    "rf_model.fit(x_train, y_train)\n",
    "yhat2 = rf_model.predict(x_test)"
   ]
  },
  {
   "cell_type": "code",
   "execution_count": 31,
   "metadata": {
    "ExecuteTime": {
     "end_time": "2021-02-21T21:27:32.210266Z",
     "start_time": "2021-02-21T21:27:31.758676Z"
    }
   },
   "outputs": [
    {
     "name": "stdout",
     "output_type": "stream",
     "text": [
      "[[ 272  127  572   24   39  615]\n",
      " [  18 1665  150   92  174 1475]\n",
      " [ 108   53 2588   20   61  357]\n",
      " [   9  108   70  566   15  314]\n",
      " [  10  186   86   21  471  774]\n",
      " [  83  902  800  134  306 5520]]\n",
      "                                        precision    recall  f1-score   support\n",
      "\n",
      "FAILING TO REDUCE SPEED TO AVOID CRASH       0.54      0.16      0.25      1649\n",
      "         FAILING TO YIELD RIGHT-OF-WAY       0.55      0.47      0.50      3574\n",
      "                 FOLLOWING TOO CLOSELY       0.61      0.81      0.69      3187\n",
      "                      IMPROPER BACKING       0.66      0.52      0.58      1082\n",
      "           IMPROPER OVERTAKING/PASSING       0.44      0.30      0.36      1548\n",
      "                                 OTHER       0.61      0.71      0.66      7745\n",
      "\n",
      "                              accuracy                           0.59     18785\n",
      "                             macro avg       0.57      0.50      0.51     18785\n",
      "                          weighted avg       0.58      0.59      0.57     18785\n",
      "\n"
     ]
    }
   ],
   "source": [
    "print(confusion_matrix(y_test, yhat2))\n",
    "print(classification_report(y_test, yhat2))"
   ]
  },
  {
   "cell_type": "markdown",
   "metadata": {},
   "source": [
    "# - Logistic Regression"
   ]
  },
  {
   "cell_type": "code",
   "execution_count": 32,
   "metadata": {
    "ExecuteTime": {
     "end_time": "2021-02-21T21:37:35.242868Z",
     "start_time": "2021-02-21T21:37:35.240663Z"
    }
   },
   "outputs": [],
   "source": [
    "from sklearn.linear_model import LogisticRegression"
   ]
  },
  {
   "cell_type": "code",
   "execution_count": 33,
   "metadata": {
    "ExecuteTime": {
     "end_time": "2021-02-21T21:37:47.631873Z",
     "start_time": "2021-02-21T21:37:43.622813Z"
    }
   },
   "outputs": [
    {
     "name": "stderr",
     "output_type": "stream",
     "text": [
      "/Users/abdullahaldaffaie/opt/anaconda3/envs/learn-env/lib/python3.8/site-packages/sklearn/linear_model/_logistic.py:762: ConvergenceWarning: lbfgs failed to converge (status=1):\n",
      "STOP: TOTAL NO. of ITERATIONS REACHED LIMIT.\n",
      "\n",
      "Increase the number of iterations (max_iter) or scale the data as shown in:\n",
      "    https://scikit-learn.org/stable/modules/preprocessing.html\n",
      "Please also refer to the documentation for alternative solver options:\n",
      "    https://scikit-learn.org/stable/modules/linear_model.html#logistic-regression\n",
      "  n_iter_i = _check_optimize_result(\n"
     ]
    }
   ],
   "source": [
    "log_reg_model = LogisticRegression(C=0.06)\n",
    "log_reg_model.fit(x_train, y_train)\n",
    "yhat3 = log_reg_model.predict(x_test)\n"
   ]
  },
  {
   "cell_type": "code",
   "execution_count": 34,
   "metadata": {
    "ExecuteTime": {
     "end_time": "2021-02-21T21:38:05.544697Z",
     "start_time": "2021-02-21T21:38:05.093310Z"
    }
   },
   "outputs": [
    {
     "name": "stdout",
     "output_type": "stream",
     "text": [
      "[[  72  119  728   20   26  684]\n",
      " [   4 1557  166   85  137 1625]\n",
      " [  66   48 2570   17   50  436]\n",
      " [   3  137   74  523    4  341]\n",
      " [   2  200   74    6  398  868]\n",
      " [  39 1045  814  115  245 5487]]\n",
      "                                        precision    recall  f1-score   support\n",
      "\n",
      "FAILING TO REDUCE SPEED TO AVOID CRASH       0.39      0.04      0.08      1649\n",
      "         FAILING TO YIELD RIGHT-OF-WAY       0.50      0.44      0.47      3574\n",
      "                 FOLLOWING TOO CLOSELY       0.58      0.81      0.68      3187\n",
      "                      IMPROPER BACKING       0.68      0.48      0.57      1082\n",
      "           IMPROPER OVERTAKING/PASSING       0.46      0.26      0.33      1548\n",
      "                                 OTHER       0.58      0.71      0.64      7745\n",
      "\n",
      "                              accuracy                           0.56     18785\n",
      "                             macro avg       0.53      0.46      0.46     18785\n",
      "                          weighted avg       0.54      0.56      0.53     18785\n",
      "\n"
     ]
    }
   ],
   "source": [
    "print(confusion_matrix(y_test, yhat3))\n",
    "print(classification_report(y_test, yhat3))"
   ]
  },
  {
   "cell_type": "code",
   "execution_count": null,
   "metadata": {},
   "outputs": [],
   "source": []
  }
 ],
 "metadata": {
  "kernelspec": {
   "display_name": "Python 3",
   "language": "python",
   "name": "python3"
  },
  "language_info": {
   "codemirror_mode": {
    "name": "ipython",
    "version": 3
   },
   "file_extension": ".py",
   "mimetype": "text/x-python",
   "name": "python",
   "nbconvert_exporter": "python",
   "pygments_lexer": "ipython3",
   "version": "3.8.5"
  },
  "toc": {
   "base_numbering": 1,
   "nav_menu": {},
   "number_sections": true,
   "sideBar": true,
   "skip_h1_title": false,
   "title_cell": "Table of Contents",
   "title_sidebar": "Contents",
   "toc_cell": false,
   "toc_position": {},
   "toc_section_display": true,
   "toc_window_display": false
  },
  "varInspector": {
   "cols": {
    "lenName": 16,
    "lenType": 16,
    "lenVar": 40
   },
   "kernels_config": {
    "python": {
     "delete_cmd_postfix": "",
     "delete_cmd_prefix": "del ",
     "library": "var_list.py",
     "varRefreshCmd": "print(var_dic_list())"
    },
    "r": {
     "delete_cmd_postfix": ") ",
     "delete_cmd_prefix": "rm(",
     "library": "var_list.r",
     "varRefreshCmd": "cat(var_dic_list()) "
    }
   },
   "types_to_exclude": [
    "module",
    "function",
    "builtin_function_or_method",
    "instance",
    "_Feature"
   ],
   "window_display": false
  }
 },
 "nbformat": 4,
 "nbformat_minor": 4
}
